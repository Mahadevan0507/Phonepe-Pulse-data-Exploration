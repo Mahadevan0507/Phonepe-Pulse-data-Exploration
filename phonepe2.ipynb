{
 "cells": [
  {
   "cell_type": "code",
   "execution_count": 3,
   "metadata": {},
   "outputs": [
    {
     "name": "stdout",
     "output_type": "stream",
     "text": [
      "Requirement already satisfied: nbformat in c:\\users\\admin\\desktop\\newfolder\\.venv\\lib\\site-packages (5.9.2)\n",
      "Requirement already satisfied: fastjsonschema in c:\\users\\admin\\desktop\\newfolder\\.venv\\lib\\site-packages (from nbformat) (2.19.1)\n",
      "Requirement already satisfied: jsonschema>=2.6 in c:\\users\\admin\\desktop\\newfolder\\.venv\\lib\\site-packages (from nbformat) (4.21.1)\n",
      "Requirement already satisfied: jupyter-core in c:\\users\\admin\\desktop\\newfolder\\.venv\\lib\\site-packages (from nbformat) (5.7.1)\n",
      "Requirement already satisfied: traitlets>=5.1 in c:\\users\\admin\\desktop\\newfolder\\.venv\\lib\\site-packages (from nbformat) (5.14.1)\n",
      "Requirement already satisfied: attrs>=22.2.0 in c:\\users\\admin\\desktop\\newfolder\\.venv\\lib\\site-packages (from jsonschema>=2.6->nbformat) (23.2.0)\n",
      "Requirement already satisfied: jsonschema-specifications>=2023.03.6 in c:\\users\\admin\\desktop\\newfolder\\.venv\\lib\\site-packages (from jsonschema>=2.6->nbformat) (2023.12.1)\n",
      "Requirement already satisfied: referencing>=0.28.4 in c:\\users\\admin\\desktop\\newfolder\\.venv\\lib\\site-packages (from jsonschema>=2.6->nbformat) (0.33.0)\n",
      "Requirement already satisfied: rpds-py>=0.7.1 in c:\\users\\admin\\desktop\\newfolder\\.venv\\lib\\site-packages (from jsonschema>=2.6->nbformat) (0.18.0)\n",
      "Requirement already satisfied: platformdirs>=2.5 in c:\\users\\admin\\desktop\\newfolder\\.venv\\lib\\site-packages (from jupyter-core->nbformat) (4.2.0)\n",
      "Requirement already satisfied: pywin32>=300 in c:\\users\\admin\\desktop\\newfolder\\.venv\\lib\\site-packages (from jupyter-core->nbformat) (306)\n",
      "Note: you may need to restart the kernel to use updated packages.\n"
     ]
    }
   ],
   "source": [
    "pip install nbformat"
   ]
  },
  {
   "cell_type": "code",
   "execution_count": 1,
   "metadata": {},
   "outputs": [],
   "source": [
    "\n",
    "import pandas as pd\n",
    "import plotly.express as px\n",
    "import pymysql\n",
    "import json\n",
    "import requests"
   ]
  },
  {
   "cell_type": "code",
   "execution_count": 5,
   "metadata": {},
   "outputs": [],
   "source": [
    "# SQL connection\n",
    "mydb = pymysql.connect(\n",
    "    host=\"localhost\",\n",
    "    user=\"root\",\n",
    "    password=\"MYSQL0507\",\n",
    "    database=\"PhonepeData\"\n",
    ")\n",
    "cursor = mydb.cursor()\n"
   ]
  },
  {
   "cell_type": "code",
   "execution_count": 6,
   "metadata": {},
   "outputs": [],
   "source": [
    "\n",
    "\n",
    "#aggregated insurance\n",
    "cursor.execute(\"SELECT * FROM aggregated_insurance\")\n",
    "table1 = cursor.fetchall()\n",
    "mydb.commit()\n",
    "\n",
    "# Create DataFrame\n",
    "Aggre_insurance = pd.DataFrame(table1, columns=(\"States\", \"Years\", \"Quarter\", \"Transaction_type\",\n",
    "                                                \"Transaction_count\", \"Transaction_amount\"))\n",
    "\n",
    "#aggregated transaction\n",
    "cursor.execute(\"SELECT * FROM aggregated_transaction\")\n",
    "table2 = cursor.fetchall()\n",
    "mydb.commit()\n",
    "\n",
    "# Create DataFrame\n",
    "Aggre_transaction = pd.DataFrame(table2, columns=(\"States\", \"Years\", \"Quarter\", \"Transaction_type\",\n",
    "                                                \"Transaction_count\", \"Transaction_amount\"))\n",
    "\n",
    "\n",
    "#aggregated user\n",
    "cursor.execute(\"SELECT * FROM aggregated_user\")\n",
    "table3 = cursor.fetchall()\n",
    "mydb.commit()\n",
    "\n",
    "# Create DataFrame\n",
    "Aggre_user = pd.DataFrame(table3, columns=(\"States\", \"Years\", \"Quarter\", \"Brands\",\n",
    "                                                \"Transaction_count\", \"Percentage\"))\n",
    "\n",
    "\n",
    " #map insurance\n",
    "cursor.execute(\"SELECT * FROM map_insurance\")\n",
    "table4 = cursor.fetchall()\n",
    "mydb.commit()\n",
    "\n",
    "# Create DataFrame\n",
    "map_insurance = pd.DataFrame(table4, columns=(\"States\", \"Years\", \"Quarter\", \"Districts\",\n",
    "                                                \"Transaction_count\", \"Transaction_amount\"))\n",
    "\n",
    "\n",
    "#map transaction\n",
    "cursor.execute(\"SELECT * FROM map_transaction\")\n",
    "table5 = cursor.fetchall()\n",
    "mydb.commit()\n",
    "\n",
    "# Create DataFrame\n",
    "map_transaction = pd.DataFrame(table5, columns=(\"States\", \"Years\", \"Quarter\", \"Districts\",\n",
    "                                                \"Transaction_count\", \"Transaction_amount\"))\n",
    "\n",
    "\n",
    "#map user\n",
    "cursor.execute(\"SELECT * FROM map_user\")\n",
    "table6 = cursor.fetchall()\n",
    "mydb.commit()\n",
    "\n",
    "# Create DataFrame\n",
    "map_user = pd.DataFrame(table6, columns=(\"States\", \"Years\", \"Quarter\", \"Districts\",\n",
    "                                                \"RegisteredUser\", \"AppOnes\"))\n",
    "\n",
    "\n",
    "#top insurance\n",
    "cursor.execute(\"SELECT * FROM top_insurance\")\n",
    "table7 = cursor.fetchall()\n",
    "mydb.commit()\n",
    "\n",
    "# Create DataFrame\n",
    "top_insurance = pd.DataFrame(table7, columns=(\"States\", \"Years\", \"Quarter\", \"Pincodes\",\n",
    "                                                \"Transaction_count\", \"Transaction_amount\"))\n",
    "\n",
    "#top transaction\n",
    "cursor.execute(\"SELECT * FROM top_transaction\")\n",
    "table8 = cursor.fetchall()\n",
    "mydb.commit()\n",
    "\n",
    "# Create DataFrame\n",
    "top_transaction = pd.DataFrame(table8, columns=(\"States\", \"Years\", \"Quarter\", \"Pincodes\",\n",
    "                                                \"Transaction_count\", \"Transaction_amount\"))\n",
    "\n",
    "\n",
    "#top user\n",
    "cursor.execute(\"SELECT * FROM top_user\")\n",
    "table9 = cursor.fetchall()\n",
    "mydb.commit()\n",
    "\n",
    "# Create DataFrame\n",
    "top_user = pd.DataFrame(table9, columns=(\"States\", \"Years\", \"Quarter\", \"Pincodes\",\n",
    "                                                \"RegisteredUsers\"))\n",
    "\n",
    "\n",
    "\n"
   ]
  },
  {
   "cell_type": "code",
   "execution_count": null,
   "metadata": {},
   "outputs": [],
   "source": []
  },
  {
   "cell_type": "code",
   "execution_count": 7,
   "metadata": {},
   "outputs": [],
   "source": [
    "def Transaction_amount_count_Y(df,year):\n",
    "    X=df[df[\"Years\"]==year]\n",
    "    X.reset_index(drop = True, inplace=True)\n",
    "\n",
    "    X1=X.groupby(\"States\")[[\"Transaction_count\",\"Transaction_amount\"]].sum()\n",
    "    X1.reset_index(inplace=True)\n",
    "\n",
    "    figamount=px.bar(X1,x=\"States\",y=\"Transaction_amount\",title=f\"{year} TRANSACTION_AMOUNT\",\n",
    "                    color_discrete_sequence=px.colors.sequential.Aggrnyl,height=650,width=600)\n",
    "    figamount.show()\n",
    "\n",
    "    figamount=px.bar(X1,x=\"States\",y=\"Transaction_count\",title=f\"{year}TRANSACTION_COUNT\",\n",
    "                    color_discrete_sequence=px.colors.sequential.Bluered_r,height=650,width=600)\n",
    "    figamount.show()\n",
    "\n",
    "    url= \"https://gist.githubusercontent.com/jbrobst/56c13bbbf9d97d187fea01ca62ea5112/raw/e388c4cae20aa53cb5090210a42ebb9b765c0a36/india_states.geojson\"\n",
    "    response=requests.get(url)\n",
    "    data1=json.loads(response.content)\n",
    "    states_name= []\n",
    "    for feature in data1[\"features\"]:\n",
    "        states_name.append(feature[\"properties\"][\"ST_NM\"])\n",
    "\n",
    "    states_name.sort()\n",
    "\n",
    "    figindia=px.choropleth( X1, geojson=data1, locations=\"States\", featureidkey=\"properties.ST_NM\",\n",
    "                        color=\"Transaction_amount\",color_continuous_scale=\"Rainbow\",\n",
    "                        range_color=(X1[\"Transaction_amount\"].min(), X1[\"Transaction_amount\"].max()), \n",
    "                        hover_name=\"States\", title=f\"{year} TRANSACTION AMOUNT\",fitbounds=\"locations\",\n",
    "                        height=650,width=600)\n",
    "\n",
    "    figindia.update_geos(visible=False)\n",
    "    figindia.show()\n",
    "    return X"
   ]
  },
  {
   "cell_type": "code",
   "execution_count": null,
   "metadata": {},
   "outputs": [],
   "source": [
    "Transaction_amount_count_Y(Aggre_insurance,2023)"
   ]
  },
  {
   "cell_type": "code",
   "execution_count": null,
   "metadata": {},
   "outputs": [],
   "source": []
  },
  {
   "cell_type": "code",
   "execution_count": 9,
   "metadata": {},
   "outputs": [],
   "source": [
    "def Transaction_amount_count_Y(df, year):\n",
    "    X = df[df[\"Years\"] == year]\n",
    "    X.reset_index(drop=True, inplace=True)\n",
    "\n",
    "    X1 = X.groupby(\"States\")[[\"Transaction_count\", \"Transaction_amount\"]].sum()\n",
    "    X1.reset_index(inplace=True)\n",
    "\n",
    "    figamount = px.bar(X1, x=\"States\", y=\"Transaction_amount\", title=f\"{year} TRANSACTION_AMOUNT\",\n",
    "                       color_discrete_sequence=px.colors.sequential.Aggrnyl, height=650, width=600)\n",
    "    figamount.show()\n",
    "\n",
    "    figamount = px.bar(X1, x=\"States\", y=\"Transaction_count\", title=f\"{year} TRANSACTION_COUNT\",\n",
    "                       color_discrete_sequence=px.colors.sequential.Bluered_r, height=650, width=600)\n",
    "    figamount.show()\n",
    "\n",
    "\n",
    "    \n",
    "    #india map                                                                                                                                                                             \n",
    "    url = \"https://gist.githubusercontent.com/jbrobst/56c13bbbf9d97d187fea01ca62ea5112/raw/e388c4cae20aa53cb5090210a42ebb9b765c0a36/india_states.geojson\"\n",
    "    response = requests.get(url)\n",
    "    data1 = json.loads(response.content)\n",
    "    states_name = []\n",
    "    for feature in data1[\"features\"]:\n",
    "        states_name.append(feature[\"properties\"][\"ST_NM\"])\n",
    "\n",
    "    states_name.sort()\n",
    "\n",
    "    figindia = px.choropleth(X1, geojson=data1, locations=\"States\", featureidkey=\"properties.ST_NM\",\n",
    "                              color=\"Transaction_amount\", color_continuous_scale=\"Rainbow\",\n",
    "                              range_color=(X1[\"Transaction_amount\"].min(), X1[\"Transaction_amount\"].max()), \n",
    "                              hover_name=\"States\", title=f\"{year} TRANSACTION AMOUNT\", fitbounds=\"locations\",\n",
    "                              height=650, width=600)\n",
    "\n",
    "    figindia.update_geos(visible=False)\n",
    "    figindia.show()\n",
    "\n",
    "    \n",
    "    figindia2 = px.choropleth(X1, geojson=data1, locations=\"States\", featureidkey=\"properties.ST_NM\",\n",
    "                              color=\"Transaction_count\", color_continuous_scale=\"Rainbow\",\n",
    "                              range_color=(X1[\"Transaction_count\"].min(), X1[\"Transaction_count\"].max()), \n",
    "                              hover_name=\"States\", title=f\"{year} TRANSACTION COUNT\", fitbounds=\"locations\",\n",
    "                              height=650, width=600)\n",
    "\n",
    "    figindia2.update_geos(visible=False)\n",
    "    figindia2.show()\n",
    "\n",
    "    return X"
   ]
  },
  {
   "cell_type": "code",
   "execution_count": null,
   "metadata": {},
   "outputs": [],
   "source": [
    "TAC=Transaction_amount_count_Y(Aggre_insurance,2021)\n",
    "TAC"
   ]
  },
  {
   "cell_type": "code",
   "execution_count": 11,
   "metadata": {},
   "outputs": [
    {
     "data": {
      "text/plain": [
       "array([2021], dtype=int64)"
      ]
     },
     "execution_count": 11,
     "metadata": {},
     "output_type": "execute_result"
    }
   ],
   "source": [
    "TAC[\"Years\"].unique()"
   ]
  },
  {
   "cell_type": "code",
   "execution_count": 12,
   "metadata": {},
   "outputs": [],
   "source": [
    "def Transaction_amount_count_Y_Q(df, quarter):\n",
    "    X = df[df[\"Quarter\"] == quarter]\n",
    "    X.reset_index(drop=True, inplace=True)\n",
    "\n",
    "    X1 = X.groupby(\"States\")[[\"Transaction_count\", \"Transaction_amount\"]].sum()\n",
    "    X1.reset_index(inplace=True)\n",
    "\n",
    "    figamount = px.bar(X1, x=\"States\", y=\"Transaction_amount\", title=f\"{X['Years'].unique()} Year {quarter} QUARTER TRANSACTION AMOUNT\",\n",
    "                       color_discrete_sequence=px.colors.sequential.Aggrnyl, height=650, width=600)\n",
    "    figamount.show()\n",
    "\n",
    "    figamount = px.bar(X1, x=\"States\", y=\"Transaction_count\", title=f\"{X['Years'].unique()} Year {quarter} QUARTER TRANSACTION COUNT\",\n",
    "                       color_discrete_sequence=px.colors.sequential.Bluered_r, height=650, width=600)\n",
    "    figamount.show()\n",
    "\n",
    "\n",
    "    \n",
    "    #india map                                                                                                                                                                             \n",
    "    url = \"https://gist.githubusercontent.com/jbrobst/56c13bbbf9d97d187fea01ca62ea5112/raw/e388c4cae20aa53cb5090210a42ebb9b765c0a36/india_states.geojson\"\n",
    "    response = requests.get(url)\n",
    "    data1 = json.loads(response.content)\n",
    "    states_name = []\n",
    "    for feature in data1[\"features\"]:\n",
    "        states_name.append(feature[\"properties\"][\"ST_NM\"])\n",
    "\n",
    "    states_name.sort()\n",
    "\n",
    "    figindia = px.choropleth(X1, geojson=data1, locations=\"States\", featureidkey=\"properties.ST_NM\",\n",
    "                              color=\"Transaction_amount\", color_continuous_scale=\"Rainbow\",\n",
    "                              range_color=(X1[\"Transaction_amount\"].min(), X1[\"Transaction_amount\"].max()), \n",
    "                              hover_name=\"States\", title=f\"{X['Years'].unique()} Year {quarter} QUARTER TRANSACTION AMOUNT\", fitbounds=\"locations\",\n",
    "                              height=650, width=600)\n",
    "\n",
    "    figindia.update_geos(visible=False)\n",
    "    figindia.show()\n",
    "\n",
    "    \n",
    "    figindia2 = px.choropleth(X1, geojson=data1, locations=\"States\", featureidkey=\"properties.ST_NM\",\n",
    "                              color=\"Transaction_count\", color_continuous_scale=\"Rainbow\",\n",
    "                              range_color=(X1[\"Transaction_count\"].min(), X1[\"Transaction_count\"].max()), \n",
    "                              hover_name=\"States\", title=f\"{X['Years'].unique()} Year {quarter} QUARTER TRANSACTION COUNT\", fitbounds=\"locations\",\n",
    "                              height=650, width=600)\n",
    "\n",
    "    figindia2.update_geos(visible=False)\n",
    "    figindia2.show()\n",
    "\n",
    "    return X"
   ]
  },
  {
   "cell_type": "code",
   "execution_count": 13,
   "metadata": {},
   "outputs": [],
   "source": [
    "#Transaction type \n",
    "def Aggre_tran_Transaction_type(df,state):\n",
    "\n",
    "    X=TAC2[TAC2[\"States\"]== \"West Bengal\"]\n",
    "    X.reset_index(drop= True, inplace=True)\n",
    "\n",
    "    X1=X.groupby(\"Transaction_type\")[[\"Transaction_count\",\"Transaction_amount\"]].sum()\n",
    "    X1.reset_index(inplace=True)\n",
    "    #X1\n",
    "\n",
    "    figpie1=px.pie(data_frame=X1,names=\"Transaction_type\",values=\"Transaction_amount\",\n",
    "                    width=600,title=f\"{state.upper()} TRANSACTION AMOUNT\",hole=0.5)\n",
    "    figpie1.show()\n",
    "\n",
    "\n",
    "    figpie2=px.pie(data_frame=X1,names=\"Transaction_type\",values=\"Transaction_count\",\n",
    "                    width=600,title=f\"{state.upper()} TRANSACTION COUNT\",hole=0.5)\n",
    "    figpie2.show()\n",
    "\n"
   ]
  },
  {
   "cell_type": "code",
   "execution_count": 147,
   "metadata": {},
   "outputs": [],
   "source": [
    "#AGG_USER_ANALYSIS_1\n",
    "def Aggre_user_plot_1(df,year):\n",
    "    AGUY=Aggre_user[Aggre_user[\"Years\"]==year]\n",
    "    AGUY.reset_index(drop=True,inplace=True)\n",
    "\n",
    "    AGUYG=pd.DataFrame(AGUY.groupby(\"Brands\")[\"Transaction_count\"].sum())\n",
    "    AGUYG.reset_index(inplace=True)\n",
    "\n",
    "    figbar1=px.bar(AGUYG,x=\"Brands\",y=\"Transaction_count\",title=\"BRANDS AND TRANSACTION COUNT\",\n",
    "                width=750,color_discrete_sequence=px.colors.sequential.haline_r)\n",
    "    figbar1.show()\n",
    "    return AGUY"
   ]
  },
  {
   "cell_type": "code",
   "execution_count": 15,
   "metadata": {},
   "outputs": [],
   "source": [
    "#AGGREGATED ANALYSIS USER 2\n",
    "def Aggre_user_plot_2(df,quarter):\n",
    "    AGUYQ=df[df[\"Quarter\"]==quarter]\n",
    "    AGUYQ.reset_index(drop=True,inplace=True)\n",
    "    \n",
    "\n",
    "    AGUYQG=pd.DataFrame(AGUYQ.groupby(\"Brands\")[\"Transaction_count\"].sum())\n",
    "    AGUYQG.reset_index(inplace= True)\n",
    "    \n",
    "\n",
    "\n",
    "    figbar1=px.bar(AGUYQG,x=\"Brands\",y=\"Transaction_count\",title=f\"{quarter}QUARTER, BRANDS AND TRANSACTION COUNT\",\n",
    "                width=750,color_discrete_sequence=px.colors.sequential.haline,hover_name=\"Brands\")\n",
    "    figbar1.show()\n",
    "    return AGUYQ"
   ]
  },
  {
   "cell_type": "code",
   "execution_count": 16,
   "metadata": {},
   "outputs": [],
   "source": [
    "def Aggre_user_plot_3(df, state):\n",
    "    AGUYQS = df[df[\"States\"] == state] \n",
    "    AGUYQS.reset_index(drop=True, inplace=True)\n",
    "\n",
    "    figline1 = px.line(AGUYQS, x=\"Brands\", y=\"Transaction_count\", hover_data=\"Percentage\",\n",
    "                       title=f\"{state.upper()}BRANDS, TRANSACTION COUNT, PERCENTAGE\", width=1000, markers=True)\n",
    "    figline1.show()\n"
   ]
  },
  {
   "cell_type": "code",
   "execution_count": 17,
   "metadata": {},
   "outputs": [],
   "source": [
    "#Transaction type \n",
    "def Map_ins_dist(df,state):\n",
    "\n",
    "    X=df[df[\"States\"]== state]\n",
    "    X.reset_index(drop= True, inplace=True)\n",
    "\n",
    "    X1=X.groupby(\"Districts\")[[\"Transaction_count\",\"Transaction_amount\"]].sum()\n",
    "    X1.reset_index(inplace=True)\n",
    "    #X1\n",
    "\n",
    "    figpie1=px.bar(data_frame=X1,y=\"Districts\",x=\"Transaction_amount\",orientation=\"h\",\n",
    "                    title=f\"{state.upper()} DISTRICT AND TRANSACTION AMOUNT\",color_discrete_sequence=px.colors.sequential.Mint_r)\n",
    "\n",
    "    figpie1.show()\n",
    "\n",
    "\n",
    "    figpie2=px.bar(data_frame=X1,y=\"Districts\",x=\"Transaction_count\",orientation=\"h\",\n",
    "                    title=f\"{state.upper()} DISTRICT AND TRANSACTION COUNT\",color_discrete_sequence=px.colors.sequential.Bluered)\n",
    "    figpie2.show()\n",
    "\n"
   ]
  },
  {
   "cell_type": "code",
   "execution_count": null,
   "metadata": {},
   "outputs": [],
   "source": []
  },
  {
   "cell_type": "code",
   "execution_count": null,
   "metadata": {},
   "outputs": [],
   "source": [
    "#Map user plot 1\n",
    "def map_user_plot1(df,year):\n",
    "    MUY=df[df[\"Years\"]==year]\n",
    "    MUY.reset_index(drop=True,inplace=True)\n",
    "\n",
    "    MUYG=pd.DataFrame(MUY.groupby(\"States\")[[\"RegisteredUser\",\"AppOnes\"]].sum())\n",
    "    MUYG.reset_index(inplace=True)\n",
    "\n",
    "\n",
    "    figline1 = px.line(MUYG, x=\"States\", y=[\"RegisteredUser\", \"AppOnes\"],\n",
    "                        title=f\"{year} RESIDTERED USER, APPOPENS\", width=1000,height=800, markers=True)\n",
    "    figline1.show()\n",
    "\n",
    "    return MUY"
   ]
  },
  {
   "cell_type": "code",
   "execution_count": null,
   "metadata": {},
   "outputs": [],
   "source": [
    "#Map user plot 1\n",
    "def map_user_plot2(df,quarter):\n",
    "    MUYQ=df[df[\"Quarter\"]==quarter]\n",
    "    MUYQ.reset_index(drop=True,inplace=True)\n",
    "\n",
    "    MUYQG=pd.DataFrame(MUYQ.groupby(\"States\")[[\"RegisteredUser\",\"AppOnes\"]].sum())\n",
    "    MUYQG.reset_index(inplace=True)\n",
    "\n",
    "\n",
    "    figline1 = px.line(MUYQG, x=\"States\", y=[\"RegisteredUser\", \"AppOnes\"],\n",
    "                        title=f\"{quarter} REGISTERED USER, APPOPENS\", width=1000,height=800, markers=True,\n",
    "                        color_discrete_sequence=px.colors.sequential.Rainbow)\n",
    "    st.plotly_chart(figline1).show()\n",
    "\n",
    "    return MUYQ"
   ]
  },
  {
   "cell_type": "code",
   "execution_count": 102,
   "metadata": {},
   "outputs": [],
   "source": [
    "#map user plot 3\n",
    "def map_user_plot3(df,states):\n",
    "    MUYQS=df[df[\"States\"]== states]\n",
    "    MUYQS.reset_index(drop=True,inplace=True)\n",
    "\n",
    "    figMUbar1=px.bar(MUYQS, x=\"RegisteredUser\",y=\"Districts\",orientation=\"h\",\n",
    "                    title=\"REGISTERED USER\",height=750, color_discrete_sequence=px.colors.sequential.Aggrnyl)\n",
    "\n",
    "    figMUbar1.show()\n",
    "\n",
    "    figMUbar2=px.bar(MUYQS, x=\"AppOnes\",y=\"Districts\",orientation=\"h\",\n",
    "                    title=\"APP OPENS\",height=750, color_discrete_sequence=px.colors.sequential.Aggrnyl)\n",
    "\n",
    "    figMUbar2.show()\n",
    "    "
   ]
  },
  {
   "cell_type": "code",
   "execution_count": 120,
   "metadata": {},
   "outputs": [],
   "source": [
    "#TOP INSURANCE PLOT 1\n",
    "def Top_ins_plot1(df,state):   \n",
    "    tiy=df[df[\"States\"]==state]\n",
    "    tiy.reset_index(drop=True,inplace=True)\n",
    "    #tiy\n",
    "    tiyg=pd.DataFrame(tiy.groupby(\"Pincodes\")[[\"Transaction_count\",\"Transaction_amount\"]].sum())\n",
    "    tiyg.reset_index(inplace=True)\n",
    "    col1,col2=st.columns(2)\n",
    "    with col1:\n",
    "        figTIbar1=px.bar(tiy, y=\"Transaction_amount\",x=\"Quarter\",hover_data=\"Pincodes\",\n",
    "                        title=f\"{state.upper()} TRANSACTION AMOUNT\",height=750, color_discrete_sequence=px.colors.sequential.Aggrnyl)\n",
    "\n",
    "        figTIbar1.show()\n",
    "    with col2:\n",
    "        figTIbar2=px.bar(tiy, y=\"Transaction_count\",x=\"Quarter\",hover_data=\"Pincodes\",\n",
    "                        title=f\"{state.upper()} TRANSACTION COUNT\",height=750, color_discrete_sequence=px.colors.sequential.Aggrnyl)\n",
    "\n",
    "        figTIbar2.show()\n",
    "            "
   ]
  },
  {
   "cell_type": "code",
   "execution_count": null,
   "metadata": {},
   "outputs": [],
   "source": [
    "#TOP_USER_ANALYSIS_1\n",
    "def top_user_plot_1(df,year):\n",
    "    TUY=top_user[top_user[\"Years\"]==year]\n",
    "    TUY.reset_index(drop=True,inplace=True)\n",
    "\n",
    "\n",
    "    TUYG=pd.DataFrame(TUY.groupby([\"States\",\"Quarter\"])[\"RegisteredUsers\"].sum())\n",
    "    TUYG.reset_index(inplace=True)\n",
    "\n",
    "    figbar1=px.bar(TUYG,x=\"States\",y=\"RegisteredUsers\",color=\"Quarter\",title=f\"{year} REGISTERED USERS\",hover_name=\"States\",           width=750,height=700,color_discrete_sequence=px.colors.sequential.Burgyl)\n",
    "    figbar1.show()\n",
    "    \n",
    "    return TUY"
   ]
  },
  {
   "cell_type": "code",
   "execution_count": null,
   "metadata": {},
   "outputs": [],
   "source": [
    "#top user plot 2\n",
    "def top_user_plot_2(df,state):    \n",
    "    TUYS=TUY1[TUY1[\"States\"]==state]\n",
    "    TUYS.reset_index(drop=True,inplace=True)\n",
    "    \n",
    "    figbar1=px.bar(TUYS,x=\"Quarter\",y=\"RegisteredUsers\",color=\"RegisteredUsers\",title=f\"{state}REGISTERED USERS/PINCODES/QUARTER\",hover_data=\"Pincodes\", \n",
    "                    width=750,height=700,color_discrete_sequence=px.colors.sequential.Magenta)\n",
    "    st.plotly_chart(figbar1)"
   ]
  },
  {
   "cell_type": "markdown",
   "metadata": {},
   "source": [
    "### Aggregated Transaction"
   ]
  },
  {
   "cell_type": "code",
   "execution_count": null,
   "metadata": {},
   "outputs": [],
   "source": [
    "Transaction_amount_count_Y_Q(TAC, 3)"
   ]
  },
  {
   "cell_type": "code",
   "execution_count": null,
   "metadata": {},
   "outputs": [],
   "source": [
    "TAC2=Transaction_amount_count_Y(Aggre_transaction,2021)"
   ]
  },
  {
   "cell_type": "code",
   "execution_count": null,
   "metadata": {},
   "outputs": [],
   "source": [
    "Aggre_tran_Transaction_type(TAC2,\"Tamil Nadu\")"
   ]
  },
  {
   "cell_type": "code",
   "execution_count": null,
   "metadata": {},
   "outputs": [],
   "source": [
    "ATTYQ=Transaction_amount_count_Y_Q(TAC2, 3)\n",
    "ATTYQ "
   ]
  },
  {
   "cell_type": "code",
   "execution_count": null,
   "metadata": {},
   "outputs": [],
   "source": [
    "ATTYQ"
   ]
  },
  {
   "cell_type": "code",
   "execution_count": null,
   "metadata": {},
   "outputs": [],
   "source": [
    "Aggre_tran_Transaction_type(ATTYQ,\"Tamil Nadu\")"
   ]
  },
  {
   "cell_type": "markdown",
   "metadata": {},
   "source": [
    "### Aggregated user"
   ]
  },
  {
   "cell_type": "code",
   "execution_count": null,
   "metadata": {},
   "outputs": [],
   "source": [
    "Aggre_user_Y=Aggre_user_plot_1(Aggre_user,2020)"
   ]
  },
  {
   "cell_type": "code",
   "execution_count": null,
   "metadata": {},
   "outputs": [],
   "source": [
    "Aggre_user_Y_Q=Aggre_user_plot_2(Aggre_user,3)"
   ]
  },
  {
   "cell_type": "code",
   "execution_count": null,
   "metadata": {},
   "outputs": [],
   "source": [
    "Aggre_user_Y_Q"
   ]
  },
  {
   "cell_type": "code",
   "execution_count": null,
   "metadata": {},
   "outputs": [],
   "source": [
    "Aggre_user_plot_3(Aggre_user_Y,\"Kerala\")"
   ]
  },
  {
   "cell_type": "markdown",
   "metadata": {},
   "source": [
    "# Map analysis\n"
   ]
  },
  {
   "cell_type": "markdown",
   "metadata": {},
   "source": [
    "## map insurance"
   ]
  },
  {
   "cell_type": "code",
   "execution_count": null,
   "metadata": {},
   "outputs": [],
   "source": [
    "MITY=Transaction_amount_count_Y(map_insurance,2023)"
   ]
  },
  {
   "cell_type": "code",
   "execution_count": null,
   "metadata": {},
   "outputs": [],
   "source": [
    "MITY"
   ]
  },
  {
   "cell_type": "code",
   "execution_count": null,
   "metadata": {},
   "outputs": [],
   "source": [
    "Map_ins_dist(MITY,'West Bengal')"
   ]
  },
  {
   "cell_type": "code",
   "execution_count": null,
   "metadata": {},
   "outputs": [],
   "source": [
    "MITYQ=Transaction_amount_count_Y_Q(MITY,3)"
   ]
  },
  {
   "cell_type": "code",
   "execution_count": null,
   "metadata": {},
   "outputs": [],
   "source": [
    "MITYQ"
   ]
  },
  {
   "cell_type": "code",
   "execution_count": null,
   "metadata": {},
   "outputs": [],
   "source": [
    "Map_ins_dist(MITYQ,'Tamil Nadu')"
   ]
  },
  {
   "cell_type": "markdown",
   "metadata": {},
   "source": [
    "## MAP TRANSACTION\n"
   ]
  },
  {
   "cell_type": "code",
   "execution_count": null,
   "metadata": {},
   "outputs": [],
   "source": [
    "map_transaction"
   ]
  },
  {
   "cell_type": "code",
   "execution_count": null,
   "metadata": {},
   "outputs": [],
   "source": [
    "MTTY=Transaction_amount_count_Y(map_transaction,2023)"
   ]
  },
  {
   "cell_type": "code",
   "execution_count": null,
   "metadata": {},
   "outputs": [],
   "source": [
    "Map_ins_dist(MTTY,'West Bengal')"
   ]
  },
  {
   "cell_type": "code",
   "execution_count": null,
   "metadata": {},
   "outputs": [],
   "source": [
    "MTTYQ=Transaction_amount_count_Y_Q(MTTY,3)"
   ]
  },
  {
   "cell_type": "code",
   "execution_count": null,
   "metadata": {},
   "outputs": [],
   "source": [
    "Map_ins_dist(MTTYQ,'Tamil Nadu')"
   ]
  },
  {
   "cell_type": "markdown",
   "metadata": {},
   "source": [
    "## map user"
   ]
  },
  {
   "cell_type": "code",
   "execution_count": 42,
   "metadata": {},
   "outputs": [
    {
     "data": {
      "text/html": [
       "<div>\n",
       "<style scoped>\n",
       "    .dataframe tbody tr th:only-of-type {\n",
       "        vertical-align: middle;\n",
       "    }\n",
       "\n",
       "    .dataframe tbody tr th {\n",
       "        vertical-align: top;\n",
       "    }\n",
       "\n",
       "    .dataframe thead th {\n",
       "        text-align: right;\n",
       "    }\n",
       "</style>\n",
       "<table border=\"1\" class=\"dataframe\">\n",
       "  <thead>\n",
       "    <tr style=\"text-align: right;\">\n",
       "      <th></th>\n",
       "      <th>States</th>\n",
       "      <th>Years</th>\n",
       "      <th>Quarter</th>\n",
       "      <th>Districts</th>\n",
       "      <th>RegisteredUser</th>\n",
       "      <th>AppOnes</th>\n",
       "    </tr>\n",
       "  </thead>\n",
       "  <tbody>\n",
       "    <tr>\n",
       "      <th>0</th>\n",
       "      <td>Andaman &amp; Nicobar Islands</td>\n",
       "      <td>2018</td>\n",
       "      <td>1</td>\n",
       "      <td>north and middle andaman district</td>\n",
       "      <td>632</td>\n",
       "      <td>0</td>\n",
       "    </tr>\n",
       "    <tr>\n",
       "      <th>1</th>\n",
       "      <td>Andaman &amp; Nicobar Islands</td>\n",
       "      <td>2018</td>\n",
       "      <td>1</td>\n",
       "      <td>south andaman district</td>\n",
       "      <td>5846</td>\n",
       "      <td>0</td>\n",
       "    </tr>\n",
       "    <tr>\n",
       "      <th>2</th>\n",
       "      <td>Andaman &amp; Nicobar Islands</td>\n",
       "      <td>2018</td>\n",
       "      <td>1</td>\n",
       "      <td>nicobars district</td>\n",
       "      <td>262</td>\n",
       "      <td>0</td>\n",
       "    </tr>\n",
       "    <tr>\n",
       "      <th>3</th>\n",
       "      <td>Andaman &amp; Nicobar Islands</td>\n",
       "      <td>2018</td>\n",
       "      <td>2</td>\n",
       "      <td>north and middle andaman district</td>\n",
       "      <td>911</td>\n",
       "      <td>0</td>\n",
       "    </tr>\n",
       "    <tr>\n",
       "      <th>4</th>\n",
       "      <td>Andaman &amp; Nicobar Islands</td>\n",
       "      <td>2018</td>\n",
       "      <td>2</td>\n",
       "      <td>south andaman district</td>\n",
       "      <td>8143</td>\n",
       "      <td>0</td>\n",
       "    </tr>\n",
       "    <tr>\n",
       "      <th>...</th>\n",
       "      <td>...</td>\n",
       "      <td>...</td>\n",
       "      <td>...</td>\n",
       "      <td>...</td>\n",
       "      <td>...</td>\n",
       "      <td>...</td>\n",
       "    </tr>\n",
       "    <tr>\n",
       "      <th>35131</th>\n",
       "      <td>West Bengal</td>\n",
       "      <td>2023</td>\n",
       "      <td>4</td>\n",
       "      <td>nadia district</td>\n",
       "      <td>1603527</td>\n",
       "      <td>67224546</td>\n",
       "    </tr>\n",
       "    <tr>\n",
       "      <th>35132</th>\n",
       "      <td>West Bengal</td>\n",
       "      <td>2023</td>\n",
       "      <td>4</td>\n",
       "      <td>birbhum district</td>\n",
       "      <td>1013025</td>\n",
       "      <td>52281841</td>\n",
       "    </tr>\n",
       "    <tr>\n",
       "      <th>35133</th>\n",
       "      <td>West Bengal</td>\n",
       "      <td>2023</td>\n",
       "      <td>4</td>\n",
       "      <td>purba medinipur district</td>\n",
       "      <td>1589203</td>\n",
       "      <td>69991821</td>\n",
       "    </tr>\n",
       "    <tr>\n",
       "      <th>35134</th>\n",
       "      <td>West Bengal</td>\n",
       "      <td>2023</td>\n",
       "      <td>4</td>\n",
       "      <td>maldah district</td>\n",
       "      <td>1134600</td>\n",
       "      <td>88292475</td>\n",
       "    </tr>\n",
       "    <tr>\n",
       "      <th>35135</th>\n",
       "      <td>West Bengal</td>\n",
       "      <td>2023</td>\n",
       "      <td>4</td>\n",
       "      <td>darjiling district</td>\n",
       "      <td>660231</td>\n",
       "      <td>39079247</td>\n",
       "    </tr>\n",
       "  </tbody>\n",
       "</table>\n",
       "<p>35136 rows × 6 columns</p>\n",
       "</div>"
      ],
      "text/plain": [
       "                          States  Years  Quarter  \\\n",
       "0      Andaman & Nicobar Islands   2018        1   \n",
       "1      Andaman & Nicobar Islands   2018        1   \n",
       "2      Andaman & Nicobar Islands   2018        1   \n",
       "3      Andaman & Nicobar Islands   2018        2   \n",
       "4      Andaman & Nicobar Islands   2018        2   \n",
       "...                          ...    ...      ...   \n",
       "35131                West Bengal   2023        4   \n",
       "35132                West Bengal   2023        4   \n",
       "35133                West Bengal   2023        4   \n",
       "35134                West Bengal   2023        4   \n",
       "35135                West Bengal   2023        4   \n",
       "\n",
       "                               Districts  RegisteredUser   AppOnes  \n",
       "0      north and middle andaman district             632         0  \n",
       "1                 south andaman district            5846         0  \n",
       "2                      nicobars district             262         0  \n",
       "3      north and middle andaman district             911         0  \n",
       "4                 south andaman district            8143         0  \n",
       "...                                  ...             ...       ...  \n",
       "35131                     nadia district         1603527  67224546  \n",
       "35132                   birbhum district         1013025  52281841  \n",
       "35133           purba medinipur district         1589203  69991821  \n",
       "35134                    maldah district         1134600  88292475  \n",
       "35135                 darjiling district          660231  39079247  \n",
       "\n",
       "[35136 rows x 6 columns]"
      ]
     },
     "execution_count": 42,
     "metadata": {},
     "output_type": "execute_result"
    }
   ],
   "source": [
    "map_user"
   ]
  },
  {
   "cell_type": "code",
   "execution_count": 73,
   "metadata": {},
   "outputs": [],
   "source": [
    "#Map user plot 1\n",
    "def map_user_plot2(df,quarter):\n",
    "    MUYQ=df[df[\"Quarter\"]==quarter]\n",
    "    MUYQ.reset_index(drop=True,inplace=True)\n",
    "\n",
    "    MUYQG=pd.DataFrame(MUYQ.groupby(\"States\")[[\"RegisteredUser\",\"AppOnes\"]].sum())\n",
    "    MUYQG.reset_index(inplace=True)\n",
    "\n",
    "\n",
    "    figline1 = px.line(MUYQG, x=\"States\", y=[\"RegisteredUser\", \"AppOnes\"],\n",
    "                        title=f\"{quarter} REGISTERED USER, APPOPENS\", width=1000,height=800, markers=True,\n",
    "                        color_discrete_sequence=px.colors.sequential.Rainbow)\n",
    "    figline1.show()\n",
    "\n",
    "    return MUYQ"
   ]
  },
  {
   "cell_type": "code",
   "execution_count": null,
   "metadata": {},
   "outputs": [],
   "source": [
    "MUY= map_user_plot1(map_user,2020)"
   ]
  },
  {
   "cell_type": "code",
   "execution_count": 92,
   "metadata": {},
   "outputs": [
    {
     "data": {
      "text/html": [
       "<div>\n",
       "<style scoped>\n",
       "    .dataframe tbody tr th:only-of-type {\n",
       "        vertical-align: middle;\n",
       "    }\n",
       "\n",
       "    .dataframe tbody tr th {\n",
       "        vertical-align: top;\n",
       "    }\n",
       "\n",
       "    .dataframe thead th {\n",
       "        text-align: right;\n",
       "    }\n",
       "</style>\n",
       "<table border=\"1\" class=\"dataframe\">\n",
       "  <thead>\n",
       "    <tr style=\"text-align: right;\">\n",
       "      <th></th>\n",
       "      <th>States</th>\n",
       "      <th>Years</th>\n",
       "      <th>Quarter</th>\n",
       "      <th>Districts</th>\n",
       "      <th>RegisteredUser</th>\n",
       "      <th>AppOnes</th>\n",
       "    </tr>\n",
       "  </thead>\n",
       "  <tbody>\n",
       "    <tr>\n",
       "      <th>0</th>\n",
       "      <td>Andaman &amp; Nicobar Islands</td>\n",
       "      <td>2022</td>\n",
       "      <td>1</td>\n",
       "      <td>north and middle andaman district</td>\n",
       "      <td>10720</td>\n",
       "      <td>904869</td>\n",
       "    </tr>\n",
       "    <tr>\n",
       "      <th>1</th>\n",
       "      <td>Andaman &amp; Nicobar Islands</td>\n",
       "      <td>2022</td>\n",
       "      <td>1</td>\n",
       "      <td>south andaman district</td>\n",
       "      <td>63487</td>\n",
       "      <td>2368756</td>\n",
       "    </tr>\n",
       "    <tr>\n",
       "      <th>2</th>\n",
       "      <td>Andaman &amp; Nicobar Islands</td>\n",
       "      <td>2022</td>\n",
       "      <td>1</td>\n",
       "      <td>nicobars district</td>\n",
       "      <td>2081</td>\n",
       "      <td>573782</td>\n",
       "    </tr>\n",
       "    <tr>\n",
       "      <th>3</th>\n",
       "      <td>Andaman &amp; Nicobar Islands</td>\n",
       "      <td>2022</td>\n",
       "      <td>2</td>\n",
       "      <td>north and middle andaman district</td>\n",
       "      <td>11379</td>\n",
       "      <td>963824</td>\n",
       "    </tr>\n",
       "    <tr>\n",
       "      <th>4</th>\n",
       "      <td>Andaman &amp; Nicobar Islands</td>\n",
       "      <td>2022</td>\n",
       "      <td>2</td>\n",
       "      <td>south andaman district</td>\n",
       "      <td>66959</td>\n",
       "      <td>3404740</td>\n",
       "    </tr>\n",
       "    <tr>\n",
       "      <th>...</th>\n",
       "      <td>...</td>\n",
       "      <td>...</td>\n",
       "      <td>...</td>\n",
       "      <td>...</td>\n",
       "      <td>...</td>\n",
       "      <td>...</td>\n",
       "    </tr>\n",
       "    <tr>\n",
       "      <th>5851</th>\n",
       "      <td>West Bengal</td>\n",
       "      <td>2022</td>\n",
       "      <td>4</td>\n",
       "      <td>nadia district</td>\n",
       "      <td>1359420</td>\n",
       "      <td>33853990</td>\n",
       "    </tr>\n",
       "    <tr>\n",
       "      <th>5852</th>\n",
       "      <td>West Bengal</td>\n",
       "      <td>2022</td>\n",
       "      <td>4</td>\n",
       "      <td>birbhum district</td>\n",
       "      <td>855236</td>\n",
       "      <td>20950662</td>\n",
       "    </tr>\n",
       "    <tr>\n",
       "      <th>5853</th>\n",
       "      <td>West Bengal</td>\n",
       "      <td>2022</td>\n",
       "      <td>4</td>\n",
       "      <td>purba medinipur district</td>\n",
       "      <td>1346908</td>\n",
       "      <td>38278506</td>\n",
       "    </tr>\n",
       "    <tr>\n",
       "      <th>5854</th>\n",
       "      <td>West Bengal</td>\n",
       "      <td>2022</td>\n",
       "      <td>4</td>\n",
       "      <td>maldah district</td>\n",
       "      <td>954892</td>\n",
       "      <td>29023743</td>\n",
       "    </tr>\n",
       "    <tr>\n",
       "      <th>5855</th>\n",
       "      <td>West Bengal</td>\n",
       "      <td>2022</td>\n",
       "      <td>4</td>\n",
       "      <td>darjiling district</td>\n",
       "      <td>564562</td>\n",
       "      <td>15982631</td>\n",
       "    </tr>\n",
       "  </tbody>\n",
       "</table>\n",
       "<p>5856 rows × 6 columns</p>\n",
       "</div>"
      ],
      "text/plain": [
       "                         States  Years  Quarter  \\\n",
       "0     Andaman & Nicobar Islands   2022        1   \n",
       "1     Andaman & Nicobar Islands   2022        1   \n",
       "2     Andaman & Nicobar Islands   2022        1   \n",
       "3     Andaman & Nicobar Islands   2022        2   \n",
       "4     Andaman & Nicobar Islands   2022        2   \n",
       "...                         ...    ...      ...   \n",
       "5851                West Bengal   2022        4   \n",
       "5852                West Bengal   2022        4   \n",
       "5853                West Bengal   2022        4   \n",
       "5854                West Bengal   2022        4   \n",
       "5855                West Bengal   2022        4   \n",
       "\n",
       "                              Districts  RegisteredUser   AppOnes  \n",
       "0     north and middle andaman district           10720    904869  \n",
       "1                south andaman district           63487   2368756  \n",
       "2                     nicobars district            2081    573782  \n",
       "3     north and middle andaman district           11379    963824  \n",
       "4                south andaman district           66959   3404740  \n",
       "...                                 ...             ...       ...  \n",
       "5851                     nadia district         1359420  33853990  \n",
       "5852                   birbhum district          855236  20950662  \n",
       "5853           purba medinipur district         1346908  38278506  \n",
       "5854                    maldah district          954892  29023743  \n",
       "5855                 darjiling district          564562  15982631  \n",
       "\n",
       "[5856 rows x 6 columns]"
      ]
     },
     "execution_count": 92,
     "metadata": {},
     "output_type": "execute_result"
    }
   ],
   "source": [
    "MUY"
   ]
  },
  {
   "cell_type": "code",
   "execution_count": null,
   "metadata": {},
   "outputs": [],
   "source": [
    "MUYQ=map_user_plot2(MUY,2)"
   ]
  },
  {
   "cell_type": "code",
   "execution_count": null,
   "metadata": {},
   "outputs": [],
   "source": [
    "MUYQ"
   ]
  },
  {
   "cell_type": "code",
   "execution_count": 99,
   "metadata": {},
   "outputs": [],
   "source": []
  },
  {
   "cell_type": "code",
   "execution_count": null,
   "metadata": {},
   "outputs": [],
   "source": [
    "map_user_plot3(MUYQ,'Tamil Nadu')"
   ]
  },
  {
   "cell_type": "markdown",
   "metadata": {},
   "source": [
    "# Top analysis"
   ]
  },
  {
   "cell_type": "markdown",
   "metadata": {},
   "source": [
    "top_insuarance"
   ]
  },
  {
   "cell_type": "code",
   "execution_count": 104,
   "metadata": {},
   "outputs": [
    {
     "data": {
      "text/html": [
       "<div>\n",
       "<style scoped>\n",
       "    .dataframe tbody tr th:only-of-type {\n",
       "        vertical-align: middle;\n",
       "    }\n",
       "\n",
       "    .dataframe tbody tr th {\n",
       "        vertical-align: top;\n",
       "    }\n",
       "\n",
       "    .dataframe thead th {\n",
       "        text-align: right;\n",
       "    }\n",
       "</style>\n",
       "<table border=\"1\" class=\"dataframe\">\n",
       "  <thead>\n",
       "    <tr style=\"text-align: right;\">\n",
       "      <th></th>\n",
       "      <th>States</th>\n",
       "      <th>Years</th>\n",
       "      <th>Quarter</th>\n",
       "      <th>Pincodes</th>\n",
       "      <th>Transaction_count</th>\n",
       "      <th>Transaction_amount</th>\n",
       "    </tr>\n",
       "  </thead>\n",
       "  <tbody>\n",
       "    <tr>\n",
       "      <th>0</th>\n",
       "      <td>Andaman &amp; Nicobar Islands</td>\n",
       "      <td>2020</td>\n",
       "      <td>2</td>\n",
       "      <td>744301.0</td>\n",
       "      <td>3</td>\n",
       "      <td>565</td>\n",
       "    </tr>\n",
       "    <tr>\n",
       "      <th>1</th>\n",
       "      <td>Andaman &amp; Nicobar Islands</td>\n",
       "      <td>2020</td>\n",
       "      <td>2</td>\n",
       "      <td>744104.0</td>\n",
       "      <td>2</td>\n",
       "      <td>513</td>\n",
       "    </tr>\n",
       "    <tr>\n",
       "      <th>2</th>\n",
       "      <td>Andaman &amp; Nicobar Islands</td>\n",
       "      <td>2020</td>\n",
       "      <td>2</td>\n",
       "      <td>744101.0</td>\n",
       "      <td>1</td>\n",
       "      <td>282</td>\n",
       "    </tr>\n",
       "    <tr>\n",
       "      <th>3</th>\n",
       "      <td>Andaman &amp; Nicobar Islands</td>\n",
       "      <td>2020</td>\n",
       "      <td>3</td>\n",
       "      <td>744112.0</td>\n",
       "      <td>9</td>\n",
       "      <td>3432</td>\n",
       "    </tr>\n",
       "    <tr>\n",
       "      <th>4</th>\n",
       "      <td>Andaman &amp; Nicobar Islands</td>\n",
       "      <td>2020</td>\n",
       "      <td>3</td>\n",
       "      <td>744105.0</td>\n",
       "      <td>7</td>\n",
       "      <td>3948</td>\n",
       "    </tr>\n",
       "    <tr>\n",
       "      <th>...</th>\n",
       "      <td>...</td>\n",
       "      <td>...</td>\n",
       "      <td>...</td>\n",
       "      <td>...</td>\n",
       "      <td>...</td>\n",
       "      <td>...</td>\n",
       "    </tr>\n",
       "    <tr>\n",
       "      <th>10493</th>\n",
       "      <td>West Bengal</td>\n",
       "      <td>2023</td>\n",
       "      <td>4</td>\n",
       "      <td>700135.0</td>\n",
       "      <td>556</td>\n",
       "      <td>939622</td>\n",
       "    </tr>\n",
       "    <tr>\n",
       "      <th>10494</th>\n",
       "      <td>West Bengal</td>\n",
       "      <td>2023</td>\n",
       "      <td>4</td>\n",
       "      <td>700091.0</td>\n",
       "      <td>535</td>\n",
       "      <td>767163</td>\n",
       "    </tr>\n",
       "    <tr>\n",
       "      <th>10495</th>\n",
       "      <td>West Bengal</td>\n",
       "      <td>2023</td>\n",
       "      <td>4</td>\n",
       "      <td>700015.0</td>\n",
       "      <td>521</td>\n",
       "      <td>683025</td>\n",
       "    </tr>\n",
       "    <tr>\n",
       "      <th>10496</th>\n",
       "      <td>West Bengal</td>\n",
       "      <td>2023</td>\n",
       "      <td>4</td>\n",
       "      <td>700059.0</td>\n",
       "      <td>518</td>\n",
       "      <td>843045</td>\n",
       "    </tr>\n",
       "    <tr>\n",
       "      <th>10497</th>\n",
       "      <td>West Bengal</td>\n",
       "      <td>2023</td>\n",
       "      <td>4</td>\n",
       "      <td>711102.0</td>\n",
       "      <td>517</td>\n",
       "      <td>769517</td>\n",
       "    </tr>\n",
       "  </tbody>\n",
       "</table>\n",
       "<p>10498 rows × 6 columns</p>\n",
       "</div>"
      ],
      "text/plain": [
       "                          States  Years  Quarter  Pincodes  Transaction_count  \\\n",
       "0      Andaman & Nicobar Islands   2020        2  744301.0                  3   \n",
       "1      Andaman & Nicobar Islands   2020        2  744104.0                  2   \n",
       "2      Andaman & Nicobar Islands   2020        2  744101.0                  1   \n",
       "3      Andaman & Nicobar Islands   2020        3  744112.0                  9   \n",
       "4      Andaman & Nicobar Islands   2020        3  744105.0                  7   \n",
       "...                          ...    ...      ...       ...                ...   \n",
       "10493                West Bengal   2023        4  700135.0                556   \n",
       "10494                West Bengal   2023        4  700091.0                535   \n",
       "10495                West Bengal   2023        4  700015.0                521   \n",
       "10496                West Bengal   2023        4  700059.0                518   \n",
       "10497                West Bengal   2023        4  711102.0                517   \n",
       "\n",
       "       Transaction_amount  \n",
       "0                     565  \n",
       "1                     513  \n",
       "2                     282  \n",
       "3                    3432  \n",
       "4                    3948  \n",
       "...                   ...  \n",
       "10493              939622  \n",
       "10494              767163  \n",
       "10495              683025  \n",
       "10496              843045  \n",
       "10497              769517  \n",
       "\n",
       "[10498 rows x 6 columns]"
      ]
     },
     "execution_count": 104,
     "metadata": {},
     "output_type": "execute_result"
    }
   ],
   "source": [
    "top_insurance"
   ]
  },
  {
   "cell_type": "code",
   "execution_count": null,
   "metadata": {},
   "outputs": [],
   "source": [
    "TITY=Transaction_amount_count_Y(top_insurance,2023)"
   ]
  },
  {
   "cell_type": "code",
   "execution_count": null,
   "metadata": {},
   "outputs": [],
   "source": [
    "Top_ins_plot1(TITY,\"West Bengal\")"
   ]
  },
  {
   "cell_type": "code",
   "execution_count": null,
   "metadata": {},
   "outputs": [],
   "source": [
    "TITY"
   ]
  },
  {
   "cell_type": "code",
   "execution_count": null,
   "metadata": {},
   "outputs": [],
   "source": [
    "TITYQ=Transaction_amount_count_Y_Q(TITY,3)"
   ]
  },
  {
   "cell_type": "markdown",
   "metadata": {},
   "source": [
    "## top transaction"
   ]
  },
  {
   "cell_type": "code",
   "execution_count": 123,
   "metadata": {},
   "outputs": [
    {
     "data": {
      "text/html": [
       "<div>\n",
       "<style scoped>\n",
       "    .dataframe tbody tr th:only-of-type {\n",
       "        vertical-align: middle;\n",
       "    }\n",
       "\n",
       "    .dataframe tbody tr th {\n",
       "        vertical-align: top;\n",
       "    }\n",
       "\n",
       "    .dataframe thead th {\n",
       "        text-align: right;\n",
       "    }\n",
       "</style>\n",
       "<table border=\"1\" class=\"dataframe\">\n",
       "  <thead>\n",
       "    <tr style=\"text-align: right;\">\n",
       "      <th></th>\n",
       "      <th>States</th>\n",
       "      <th>Years</th>\n",
       "      <th>Quarter</th>\n",
       "      <th>Pincodes</th>\n",
       "      <th>Transaction_count</th>\n",
       "      <th>Transaction_amount</th>\n",
       "    </tr>\n",
       "  </thead>\n",
       "  <tbody>\n",
       "    <tr>\n",
       "      <th>0</th>\n",
       "      <td>Andaman &amp; Nicobar Islands</td>\n",
       "      <td>2018</td>\n",
       "      <td>1</td>\n",
       "      <td>744101.0</td>\n",
       "      <td>1622</td>\n",
       "      <td>2769298</td>\n",
       "    </tr>\n",
       "    <tr>\n",
       "      <th>1</th>\n",
       "      <td>Andaman &amp; Nicobar Islands</td>\n",
       "      <td>2018</td>\n",
       "      <td>1</td>\n",
       "      <td>744103.0</td>\n",
       "      <td>1223</td>\n",
       "      <td>2238042</td>\n",
       "    </tr>\n",
       "    <tr>\n",
       "      <th>2</th>\n",
       "      <td>Andaman &amp; Nicobar Islands</td>\n",
       "      <td>2018</td>\n",
       "      <td>1</td>\n",
       "      <td>744102.0</td>\n",
       "      <td>969</td>\n",
       "      <td>3519060</td>\n",
       "    </tr>\n",
       "    <tr>\n",
       "      <th>3</th>\n",
       "      <td>Andaman &amp; Nicobar Islands</td>\n",
       "      <td>2018</td>\n",
       "      <td>1</td>\n",
       "      <td>744105.0</td>\n",
       "      <td>685</td>\n",
       "      <td>1298561</td>\n",
       "    </tr>\n",
       "    <tr>\n",
       "      <th>4</th>\n",
       "      <td>Andaman &amp; Nicobar Islands</td>\n",
       "      <td>2018</td>\n",
       "      <td>1</td>\n",
       "      <td>744104.0</td>\n",
       "      <td>340</td>\n",
       "      <td>1039715</td>\n",
       "    </tr>\n",
       "    <tr>\n",
       "      <th>...</th>\n",
       "      <td>...</td>\n",
       "      <td>...</td>\n",
       "      <td>...</td>\n",
       "      <td>...</td>\n",
       "      <td>...</td>\n",
       "      <td>...</td>\n",
       "    </tr>\n",
       "    <tr>\n",
       "      <th>17129</th>\n",
       "      <td>West Bengal</td>\n",
       "      <td>2023</td>\n",
       "      <td>4</td>\n",
       "      <td>721301.0</td>\n",
       "      <td>4133775</td>\n",
       "      <td>5718222071</td>\n",
       "    </tr>\n",
       "    <tr>\n",
       "      <th>17130</th>\n",
       "      <td>West Bengal</td>\n",
       "      <td>2023</td>\n",
       "      <td>4</td>\n",
       "      <td>700001.0</td>\n",
       "      <td>3983241</td>\n",
       "      <td>8039688940</td>\n",
       "    </tr>\n",
       "    <tr>\n",
       "      <th>17131</th>\n",
       "      <td>West Bengal</td>\n",
       "      <td>2023</td>\n",
       "      <td>4</td>\n",
       "      <td>732125.0</td>\n",
       "      <td>3950411</td>\n",
       "      <td>6557344712</td>\n",
       "    </tr>\n",
       "    <tr>\n",
       "      <th>17132</th>\n",
       "      <td>West Bengal</td>\n",
       "      <td>2023</td>\n",
       "      <td>4</td>\n",
       "      <td>700039.0</td>\n",
       "      <td>3742452</td>\n",
       "      <td>5608622243</td>\n",
       "    </tr>\n",
       "    <tr>\n",
       "      <th>17133</th>\n",
       "      <td>West Bengal</td>\n",
       "      <td>2023</td>\n",
       "      <td>4</td>\n",
       "      <td>700014.0</td>\n",
       "      <td>3652710</td>\n",
       "      <td>6184795262</td>\n",
       "    </tr>\n",
       "  </tbody>\n",
       "</table>\n",
       "<p>17134 rows × 6 columns</p>\n",
       "</div>"
      ],
      "text/plain": [
       "                          States  Years  Quarter  Pincodes  Transaction_count  \\\n",
       "0      Andaman & Nicobar Islands   2018        1  744101.0               1622   \n",
       "1      Andaman & Nicobar Islands   2018        1  744103.0               1223   \n",
       "2      Andaman & Nicobar Islands   2018        1  744102.0                969   \n",
       "3      Andaman & Nicobar Islands   2018        1  744105.0                685   \n",
       "4      Andaman & Nicobar Islands   2018        1  744104.0                340   \n",
       "...                          ...    ...      ...       ...                ...   \n",
       "17129                West Bengal   2023        4  721301.0            4133775   \n",
       "17130                West Bengal   2023        4  700001.0            3983241   \n",
       "17131                West Bengal   2023        4  732125.0            3950411   \n",
       "17132                West Bengal   2023        4  700039.0            3742452   \n",
       "17133                West Bengal   2023        4  700014.0            3652710   \n",
       "\n",
       "       Transaction_amount  \n",
       "0                 2769298  \n",
       "1                 2238042  \n",
       "2                 3519060  \n",
       "3                 1298561  \n",
       "4                 1039715  \n",
       "...                   ...  \n",
       "17129          5718222071  \n",
       "17130          8039688940  \n",
       "17131          6557344712  \n",
       "17132          5608622243  \n",
       "17133          6184795262  \n",
       "\n",
       "[17134 rows x 6 columns]"
      ]
     },
     "execution_count": 123,
     "metadata": {},
     "output_type": "execute_result"
    }
   ],
   "source": [
    "top_transaction"
   ]
  },
  {
   "cell_type": "code",
   "execution_count": null,
   "metadata": {},
   "outputs": [],
   "source": [
    "TTTY=Transaction_amount_count_Y(top_transaction,2023)"
   ]
  },
  {
   "cell_type": "code",
   "execution_count": null,
   "metadata": {},
   "outputs": [],
   "source": [
    "Top_ins_plot1(TTTY,\"West Bengal\")"
   ]
  },
  {
   "cell_type": "code",
   "execution_count": null,
   "metadata": {},
   "outputs": [],
   "source": [
    "TTTYQ=Transaction_amount_count_Y_Q(TTTY,3)"
   ]
  },
  {
   "cell_type": "markdown",
   "metadata": {},
   "source": [
    "## top user"
   ]
  },
  {
   "cell_type": "code",
   "execution_count": null,
   "metadata": {},
   "outputs": [],
   "source": [
    "TUY1=top_user_plot_1(top_user,2020)"
   ]
  },
  {
   "cell_type": "code",
   "execution_count": null,
   "metadata": {},
   "outputs": [],
   "source": [
    "TUY1"
   ]
  },
  {
   "cell_type": "code",
   "execution_count": null,
   "metadata": {},
   "outputs": [],
   "source": [
    "top_user"
   ]
  },
  {
   "cell_type": "markdown",
   "metadata": {},
   "source": [
    "##questions"
   ]
  },
  {
   "cell_type": "code",
   "execution_count": 19,
   "metadata": {},
   "outputs": [],
   "source": [
    "def TOPCHARTTA(tablename):\n",
    "    mydb = pymysql.connect(\n",
    "        host=\"localhost\",\n",
    "        user=\"root\",\n",
    "        password=\"MYSQL0507\",\n",
    "        database=\"PhonepeData\"\n",
    "    )\n",
    "    cursor = mydb.cursor()\n",
    "\n",
    "    query1=f'''SELECT states,SUM(transaction_amount) as transaction_amount\n",
    "                FROM {tablename}\n",
    "                GROUP BY states\n",
    "                ORDER BY transaction_amount DESC\n",
    "                LIMIT 10;'''\n",
    "    cursor.execute(query1)\n",
    "    table=cursor.fetchall()\n",
    "    mydb.commit\n",
    "\n",
    "    df1=pd.DataFrame(table,columns=(\"states\",\"transaction_amount\"))\n",
    "    figamount1=px.bar(df1,x=\"states\",y=\"transaction_amount\",title=\"TRANSACTION_AMOUNT\",hover_name=\"states\",\n",
    "                        color_discrete_sequence=px.colors.sequential.Aggrnyl,height=450,width=600)\n",
    "    figamount1.show()\n",
    "\n",
    "    #query2\n",
    "    query2=f'''SELECT states,SUM(transaction_amount) as transaction_amount\n",
    "                FROM {tablename}\n",
    "                GROUP BY states\n",
    "                ORDER BY transaction_amount \n",
    "                LIMIT 10;'''\n",
    "    cursor.execute(query2)\n",
    "    table2=cursor.fetchall()\n",
    "    mydb.commit\n",
    "\n",
    "    df2=pd.DataFrame(table2,columns=(\"states\",\"transaction_amount\"))\n",
    "    figamount2=px.bar(df2,x=\"states\",y=\"transaction_amount\",title=\"TRANSACTION_AMOUNT\",hover_name=\"states\",\n",
    "                        color_discrete_sequence=px.colors.sequential.Aggrnyl_r,height=450,width=600)\n",
    "    figamount2.show()\n",
    "\n",
    "    #query\n",
    "    query3=f'''SELECT states,AVG(transaction_amount) as transaction_amount\n",
    "                FROM {tablename}\n",
    "                GROUP BY states\n",
    "                ORDER BY transaction_amount;'''\n",
    "    cursor.execute(query3)\n",
    "    table3=cursor.fetchall()\n",
    "    mydb.commit\n",
    "\n",
    "    df3=pd.DataFrame(table3,columns=(\"states\",\"transaction_amount\"))\n",
    "    figamount3=px.bar(df3,y=\"states\",x=\"transaction_amount\",title=\"TRANSACTION_AMOUNT\",hover_name=\"states\",orientation=\"h\",\n",
    "                        color_discrete_sequence=px.colors.sequential.Bluered,height=550,width=600)\n",
    "    figamount3.show()"
   ]
  },
  {
   "cell_type": "code",
   "execution_count": null,
   "metadata": {},
   "outputs": [],
   "source": [
    "TOPCHARTTA(\"aggregated_transaction\")"
   ]
  },
  {
   "cell_type": "code",
   "execution_count": null,
   "metadata": {},
   "outputs": [],
   "source": [
    "TOPCHARTTC(\"aggregated_transaction\")"
   ]
  },
  {
   "cell_type": "code",
   "execution_count": null,
   "metadata": {},
   "outputs": [],
   "source": [
    "TOPCHARTRU(\"map_user\",\"Tamil Nadu\")"
   ]
  },
  {
   "cell_type": "code",
   "execution_count": null,
   "metadata": {},
   "outputs": [],
   "source": [
    "TOPCHARTAO(\"map_user\",\"Tamil Nadu\")"
   ]
  },
  {
   "cell_type": "code",
   "execution_count": null,
   "metadata": {},
   "outputs": [],
   "source": [
    "TOPCHARTRUs(\"top_user\")"
   ]
  }
 ],
 "metadata": {
  "kernelspec": {
   "display_name": ".venv",
   "language": "python",
   "name": "python3"
  },
  "language_info": {
   "codemirror_mode": {
    "name": "ipython",
    "version": 3
   },
   "file_extension": ".py",
   "mimetype": "text/x-python",
   "name": "python",
   "nbconvert_exporter": "python",
   "pygments_lexer": "ipython3",
   "version": "3.12.2"
  }
 },
 "nbformat": 4,
 "nbformat_minor": 2
}
